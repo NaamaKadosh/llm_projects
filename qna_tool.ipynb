{
 "cells": [
  {
   "cell_type": "markdown",
   "id": "fe12c203-e6a6-452c-a655-afb8a03a4ff5",
   "metadata": {},
   "source": [
    "# QNA Tool\n",
    "\n",
    "This is a general tool to help with technical questions with GPT and Llama models.  "
   ]
  },
  {
   "cell_type": "code",
   "execution_count": 1,
   "id": "c1070317-3ed9-4659-abe3-828943230e03",
   "metadata": {},
   "outputs": [],
   "source": [
    "import os\n",
    "from openai import OpenAI\n",
    "from dotenv import load_dotenv\n",
    "from IPython.display import Markdown, display, update_display"
   ]
  },
  {
   "cell_type": "code",
   "execution_count": 2,
   "id": "4a456906-915a-4bfd-bb9d-57e505c5093f",
   "metadata": {},
   "outputs": [],
   "source": [
    "# constants\n",
    "\n",
    "MODEL_GPT = 'gpt-4o-mini'\n",
    "MODEL_LLAMA = 'llama3.2'"
   ]
  },
  {
   "cell_type": "code",
   "execution_count": 3,
   "id": "a8d7923c-5f28-4c30-8556-342d7c8497c1",
   "metadata": {},
   "outputs": [
    {
     "data": {
      "text/plain": [
       "True"
      ]
     },
     "execution_count": 3,
     "metadata": {},
     "output_type": "execute_result"
    }
   ],
   "source": [
    "# set up environment\n",
    "\n",
    "load_dotenv(override=True)"
   ]
  },
  {
   "cell_type": "code",
   "execution_count": 4,
   "id": "4c4c0f67-4a1e-4183-939b-86242dceb323",
   "metadata": {},
   "outputs": [],
   "source": [
    "# prompts\n",
    "\n",
    "system_prompt = \"You are a helpful technical tutor who answers questions about python code, software engineering, data science and LLMs\"\n",
    "user_prompt = \"Please answer the following question:\""
   ]
  },
  {
   "cell_type": "code",
   "execution_count": 15,
   "id": "3f0d0137-52b0-47a8-81a8-11a90a010798",
   "metadata": {},
   "outputs": [],
   "source": [
    "# question\n",
    "\n",
    "question = \"\"\"\n",
    "Please explain what this Python code does and why:\n",
    "yield from {book.get(\"author\") for book in books if book.get(\"author\")}\n",
    "\"\"\""
   ]
  },
  {
   "cell_type": "code",
   "execution_count": 16,
   "id": "0cfda6d1-9ea1-4602-a497-43a3d8f8ab1b",
   "metadata": {},
   "outputs": [],
   "source": [
    "# messages\n",
    "\n",
    "messages=[\n",
    "        {\n",
    "            \"role\": \"user\",\n",
    "            \"content\": user_prompt + question\n",
    "        },\n",
    "        {\n",
    "            \"role\": \"system\",\n",
    "            \"content\": system_prompt\n",
    "        }\n",
    "    ]"
   ]
  },
  {
   "cell_type": "code",
   "execution_count": 7,
   "id": "60ce7000-a4a5-4cce-a261-e75ef45063b4",
   "metadata": {},
   "outputs": [
    {
     "data": {
      "text/markdown": [
       "The given Python code snippet is using the `yield from` statement combined with a set comprehension. Here's a breakdown of what it does:\n",
       "\n",
       "### Breakdown of the Code\n",
       "\n",
       "1. **Set Comprehension**: \n",
       "   python\n",
       "   {book.get(\"author\") for book in books if book.get(\"author\")}\n",
       "   \n",
       "   - This part creates a set of authors from a collection called `books`.\n",
       "   - It iterates through each `book` in the `books` iterable.\n",
       "   - The expression `book.get(\"author\")` retrieves the value associated with the key `\"author\"` for each `book`. \n",
       "   - The `if book.get(\"author\")` condition filters out any `book` entries where the `\"author\"` key does not exist or has a value that evaluates to `False` (e.g., `None`, an empty string, etc.).\n",
       "   - As a result, this creates a set of authors that have valid values.\n",
       "\n",
       "2. **`yield from`**:\n",
       "   python\n",
       "   yield from { ... }\n",
       "   \n",
       "   - The `yield from` statement is used within a generator function to yield all items from an iterable (in this case, the set of authors).\n",
       "   - It effectively allows the generator to produce values one at a time from the underlying iterable without needing a loop to do so.\n",
       "\n",
       "### Purpose of the Code\n",
       "The overall purpose of this code is to define a generator that yields unique author names from a list of book dictionaries. It provides a mechanism to retrieve authors without duplicates and allows the consuming code to iterate over the authors one by one.\n",
       "\n",
       "### Example Usage\n",
       "Assuming `books` is a list of dictionaries structured like this:\n",
       "python\n",
       "books = [\n",
       "    {\"title\": \"Book One\", \"author\": \"Author A\"},\n",
       "    {\"title\": \"Book Two\", \"author\": \"Author B\"},\n",
       "    {\"title\": \"Book Three\"},  # No author\n",
       "    {\"title\": \"Book Four\", \"author\": \"Author A\"},  # Duplicate author\n",
       "]\n",
       "\n",
       "\n",
       "After executing the generator function containing the code, the yielded authors would be:\n",
       "- \"Author A\"\n",
       "- \"Author B\"\n",
       "\n",
       "### Summary\n",
       "In summary, this code effectively extracts and yields unique authors from a list of books in a clean and memory-efficient manner using a generator."
      ],
      "text/plain": [
       "<IPython.core.display.Markdown object>"
      ]
     },
     "metadata": {},
     "output_type": "display_data"
    }
   ],
   "source": [
    "# Get gpt-4o-mini to answer, with streaming\n",
    "\n",
    "client = OpenAI()\n",
    "\n",
    "completion = client.chat.completions.create(\n",
    "    model=MODEL_GPT,\n",
    "    messages=messages,\n",
    "    stream=True\n",
    ")\n",
    "\n",
    "response = \"\"\n",
    "display_handle = display(Markdown(\"\"), display_id=True)\n",
    "for chunk in completion:\n",
    "    response += chunk.choices[0].delta.content or ''\n",
    "    response = response.replace(\"```\",\"\").replace(\"markdown\", \"\")\n",
    "    update_display(Markdown(response), display_id=display_handle.display_id)"
   ]
  },
  {
   "cell_type": "code",
   "execution_count": 20,
   "id": "b0f5c4b4-cd0f-43b6-a606-50ea79a4bcc3",
   "metadata": {},
   "outputs": [],
   "source": [
    "messages = [\n",
    "    {\"role\": \"system\", \"content\": system_prompt},\n",
    "    {\"role\": \"user\", \"content\": user_prompt + question}\n",
    "]\n",
    "\n",
    "# messages\n",
    "\n",
    "messages=[\n",
    "            {\n",
    "            \"role\": \"system\",\n",
    "            \"content\": system_prompt\n",
    "            },\n",
    "    \n",
    "            {\n",
    "            \"role\": \"user\",\n",
    "            \"content\": user_prompt + question\n",
    "            }\n",
    "        ]"
   ]
  },
  {
   "cell_type": "code",
   "execution_count": null,
   "id": "8f7c8ea8-4082-4ad0-8751-3301adcf6538",
   "metadata": {},
   "outputs": [],
   "source": [
    "# Get Llama 3.2 to answer\n",
    "\n",
    "from ollama import chat\n",
    "\n",
    "response = chat(model=MODEL_LLAMA, messages=messages)\n",
    "display(Markdown(response['message']['content']))"
   ]
  },
  {
   "cell_type": "code",
   "execution_count": null,
   "id": "909212a4-b699-4598-a6d7-ba76b0df7899",
   "metadata": {},
   "outputs": [],
   "source": []
  }
 ],
 "metadata": {
  "kernelspec": {
   "display_name": "Python 3 (ipykernel)",
   "language": "python",
   "name": "python3"
  },
  "language_info": {
   "codemirror_mode": {
    "name": "ipython",
    "version": 3
   },
   "file_extension": ".py",
   "mimetype": "text/x-python",
   "name": "python",
   "nbconvert_exporter": "python",
   "pygments_lexer": "ipython3",
   "version": "3.11.12"
  }
 },
 "nbformat": 4,
 "nbformat_minor": 5
}
